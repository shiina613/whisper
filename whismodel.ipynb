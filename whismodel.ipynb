{
  "cells": [
    {
      "cell_type": "markdown",
      "metadata": {
        "id": "view-in-github",
        "colab_type": "text"
      },
      "source": [
        "<a href=\"https://colab.research.google.com/github/shiina613/whisper/blob/main/whismodel.ipynb\" target=\"_parent\"><img src=\"https://colab.research.google.com/assets/colab-badge.svg\" alt=\"Open In Colab\"/></a>"
      ]
    },
    {
      "cell_type": "markdown",
      "source": [
        "### Triển khai trên Whisper"
      ],
      "metadata": {
        "id": "5HzSKEGxwNQV"
      }
    },
    {
      "cell_type": "code",
      "source": [
        "import locale\n",
        "locale.genpreferredencoding = lambda : \"UTF-8\"\n",
        "!pip install -q openai-whisper ffmpeg pydub"
      ],
      "metadata": {
        "collapsed": true,
        "id": "zeyvPocCwW_Y",
        "outputId": "a1367dc6-275e-4165-c02f-fb72433dcd03",
        "colab": {
          "base_uri": "https://localhost:8080/"
        }
      },
      "execution_count": 2,
      "outputs": [
        {
          "output_type": "stream",
          "name": "stdout",
          "text": [
            "  Installing build dependencies ... \u001b[?25l\u001b[?25hdone\n",
            "  Getting requirements to build wheel ... \u001b[?25l\u001b[?25hdone\n",
            "  Preparing metadata (pyproject.toml) ... \u001b[?25l\u001b[?25hdone\n",
            "  Preparing metadata (setup.py) ... \u001b[?25l\u001b[?25hdone\n",
            "\u001b[2K   \u001b[90m━━━━━━━━━━━━━━━━━━━━━━━━━━━━━━━━━━━━━━━━\u001b[0m \u001b[32m168.1/168.1 MB\u001b[0m \u001b[31m7.9 MB/s\u001b[0m eta \u001b[36m0:00:00\u001b[0m\n",
            "\u001b[2K   \u001b[90m━━━━━━━━━━━━━━━━━━━━━━━━━━━━━━━━━━━━━━━━\u001b[0m \u001b[32m1.1/1.1 MB\u001b[0m \u001b[31m27.7 MB/s\u001b[0m eta \u001b[36m0:00:00\u001b[0m\n",
            "\u001b[?25h  Building wheel for openai-whisper (pyproject.toml) ... \u001b[?25l\u001b[?25hdone\n",
            "  Building wheel for ffmpeg (setup.py) ... \u001b[?25l\u001b[?25hdone\n"
          ]
        }
      ]
    },
    {
      "cell_type": "code",
      "source": [
        "import whisper\n",
        "model = whisper.load_model(\"medium\", device=\"cuda\")"
      ],
      "metadata": {
        "collapsed": true,
        "id": "MPSOSLebw6Iu",
        "outputId": "59474270-2716-48ec-9613-4b71d33ad96c",
        "colab": {
          "base_uri": "https://localhost:8080/"
        }
      },
      "execution_count": 9,
      "outputs": [
        {
          "output_type": "stream",
          "name": "stderr",
          "text": [
            "100%|█████████████████████████████████████| 1.42G/1.42G [00:15<00:00, 96.2MiB/s]\n",
            "/usr/local/lib/python3.10/dist-packages/whisper/__init__.py:146: FutureWarning: You are using `torch.load` with `weights_only=False` (the current default value), which uses the default pickle module implicitly. It is possible to construct malicious pickle data which will execute arbitrary code during unpickling (See https://github.com/pytorch/pytorch/blob/main/SECURITY.md#untrusted-models for more details). In a future release, the default value for `weights_only` will be flipped to `True`. This limits the functions that could be executed during unpickling. Arbitrary objects will no longer be allowed to be loaded via this mode unless they are explicitly allowlisted by the user via `torch.serialization.add_safe_globals`. We recommend you start setting `weights_only=True` for any use case where you don't have full control of the loaded file. Please open an issue on GitHub for any issues related to this experimental feature.\n",
            "  checkpoint = torch.load(fp, map_location=device)\n"
          ]
        }
      ]
    },
    {
      "cell_type": "code",
      "source": [
        "from IPython.display import Javascript\n",
        "from google.colab import output\n",
        "from base64 import b64decode\n",
        "from io import BytesIO\n",
        "from pydub import AudioSegment\n",
        "\n",
        "JAVASCRIPT_RECORD = \"\"\"\n",
        "const sleep  = time => new Promise(resolve => setTimeout(resolve, time))\n",
        "const b2text = blob => new Promise(resolve => {\n",
        "  const reader = new FileReader()\n",
        "  reader.onloadend = e => resolve(e.srcElement.result)\n",
        "  reader.readAsDataURL(blob)\n",
        "})\n",
        "var record = time => new Promise(async resolve => {\n",
        "  stream = await navigator.mediaDevices.getUserMedia({ audio: true })\n",
        "  recorder = new MediaRecorder(stream)\n",
        "  chunks = []\n",
        "  recorder.ondataavailable = e => chunks.push(e.data)\n",
        "  recorder.start()\n",
        "  await sleep(time)\n",
        "  recorder.onstop = async ()=>{\n",
        "    blob = new Blob(chunks)\n",
        "    text = await b2text(blob)\n",
        "    resolve(text)\n",
        "  }\n",
        "  recorder.stop()\n",
        "})\n",
        "\"\"\"\n",
        "\n",
        "\n",
        "def record(sec=3):\n",
        "  print(\"Start recording...\")\n",
        "  display(Javascript(JAVASCRIPT_RECORD))\n",
        "  s = output.eval_js('record(%d)' % (sec*1000))\n",
        "  b = b64decode(s.split(',')[1])\n",
        "  audio = AudioSegment.from_file(BytesIO(b))\n",
        "  return audio\n",
        "\n",
        "\n",
        "def tts(sec=5):\n",
        "  print(\"Start recording...\")\n",
        "  display(Javascript(JAVASCRIPT_RECORD))\n",
        "  s = output.eval_js('record(%d)' % (sec*1000))\n",
        "  b = b64decode(s.split(',')[1])\n",
        "  with open('/content/audio.wav',\"wb\") as f:\n",
        "    f.write(b)\n",
        "  print(\"Finish recording. Send to model\")\n",
        "  result = model.transcribe(\"/content/audio.wav\", language=\"vietnamese\")\n",
        "  return result[\"text\"]"
      ],
      "metadata": {
        "id": "GFuniJPox9qe"
      },
      "execution_count": 4,
      "outputs": []
    },
    {
      "cell_type": "code",
      "source": [
        "record()"
      ],
      "metadata": {
        "collapsed": true,
        "id": "396-Z2bNxvcJ",
        "outputId": "b09c98a1-0ea9-49ee-c2b0-01ff35aa4ba7",
        "colab": {
          "base_uri": "https://localhost:8080/",
          "height": 93
        }
      },
      "execution_count": 6,
      "outputs": [
        {
          "output_type": "stream",
          "name": "stdout",
          "text": [
            "Start recording...\n"
          ]
        },
        {
          "output_type": "display_data",
          "data": {
            "text/plain": [
              "<IPython.core.display.Javascript object>"
            ],
            "application/javascript": [
              "\n",
              "const sleep  = time => new Promise(resolve => setTimeout(resolve, time))\n",
              "const b2text = blob => new Promise(resolve => {\n",
              "  const reader = new FileReader()\n",
              "  reader.onloadend = e => resolve(e.srcElement.result)\n",
              "  reader.readAsDataURL(blob)\n",
              "})\n",
              "var record = time => new Promise(async resolve => {\n",
              "  stream = await navigator.mediaDevices.getUserMedia({ audio: true })\n",
              "  recorder = new MediaRecorder(stream)\n",
              "  chunks = []\n",
              "  recorder.ondataavailable = e => chunks.push(e.data)\n",
              "  recorder.start()\n",
              "  await sleep(time)\n",
              "  recorder.onstop = async ()=>{\n",
              "    blob = new Blob(chunks)\n",
              "    text = await b2text(blob)\n",
              "    resolve(text)\n",
              "  }\n",
              "  recorder.stop()\n",
              "})\n"
            ]
          },
          "metadata": {}
        },
        {
          "output_type": "execute_result",
          "data": {
            "text/plain": [
              "<pydub.audio_segment.AudioSegment at 0x7e2ad2f4da20>"
            ],
            "text/html": [
              "\n",
              "                    <audio controls>\n",
              "                        <source src=\"data:audio/mpeg;base64,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\" type=\"audio/mpeg\"/>\n",
              "                        Your browser does not support the audio element.\n",
              "                    </audio>\n",
              "                  "
            ]
          },
          "metadata": {},
          "execution_count": 6
        }
      ]
    },
    {
      "cell_type": "code",
      "source": [
        "tts()"
      ],
      "metadata": {
        "id": "WprLZC1ox7pT",
        "outputId": "d6e55b58-fcd0-464f-e96f-a3e63d3d97f6",
        "colab": {
          "base_uri": "https://localhost:8080/",
          "height": 72
        }
      },
      "execution_count": 11,
      "outputs": [
        {
          "output_type": "stream",
          "name": "stdout",
          "text": [
            "Start recording...\n"
          ]
        },
        {
          "output_type": "display_data",
          "data": {
            "text/plain": [
              "<IPython.core.display.Javascript object>"
            ],
            "application/javascript": [
              "\n",
              "const sleep  = time => new Promise(resolve => setTimeout(resolve, time))\n",
              "const b2text = blob => new Promise(resolve => {\n",
              "  const reader = new FileReader()\n",
              "  reader.onloadend = e => resolve(e.srcElement.result)\n",
              "  reader.readAsDataURL(blob)\n",
              "})\n",
              "var record = time => new Promise(async resolve => {\n",
              "  stream = await navigator.mediaDevices.getUserMedia({ audio: true })\n",
              "  recorder = new MediaRecorder(stream)\n",
              "  chunks = []\n",
              "  recorder.ondataavailable = e => chunks.push(e.data)\n",
              "  recorder.start()\n",
              "  await sleep(time)\n",
              "  recorder.onstop = async ()=>{\n",
              "    blob = new Blob(chunks)\n",
              "    text = await b2text(blob)\n",
              "    resolve(text)\n",
              "  }\n",
              "  recorder.stop()\n",
              "})\n"
            ]
          },
          "metadata": {}
        },
        {
          "output_type": "stream",
          "name": "stdout",
          "text": [
            "Finish recording. Send to model\n"
          ]
        },
        {
          "output_type": "execute_result",
          "data": {
            "text/plain": [
              "' Xin chào, mình đang làm hành tập bởi vì tối nay bọn mình có một cổ hoạm rất quan trọng'"
            ],
            "application/vnd.google.colaboratory.intrinsic+json": {
              "type": "string"
            }
          },
          "metadata": {},
          "execution_count": 11
        }
      ]
    }
  ],
  "metadata": {
    "colab": {
      "name": "Welcome To Colab",
      "provenance": [],
      "gpuType": "T4",
      "include_colab_link": true
    },
    "kernelspec": {
      "display_name": "Python 3",
      "name": "python3"
    },
    "accelerator": "GPU"
  },
  "nbformat": 4,
  "nbformat_minor": 0
}